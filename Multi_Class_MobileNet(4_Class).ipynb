{
  "nbformat": 4,
  "nbformat_minor": 0,
  "metadata": {
    "colab": {
      "name": "Multi_Class_MobileNet(4 Class).ipynb",
      "provenance": [],
      "mount_file_id": "1Iju92se22yah7tXFaFXOwLYWnLTrFd5Z",
      "authorship_tag": "ABX9TyNdLvLKlHuj1pqRY+47dsPq",
      "include_colab_link": true
    },
    "kernelspec": {
      "name": "python3",
      "display_name": "Python 3"
    },
    "accelerator": "GPU"
  },
  "cells": [
    {
      "cell_type": "markdown",
      "metadata": {
        "id": "view-in-github",
        "colab_type": "text"
      },
      "source": [
        "<a href=\"https://colab.research.google.com/github/puja431996/Notebook/blob/master/Multi_Class_MobileNet(4_Class).ipynb\" target=\"_parent\"><img src=\"https://colab.research.google.com/assets/colab-badge.svg\" alt=\"Open In Colab\"/></a>"
      ]
    },
    {
      "cell_type": "markdown",
      "metadata": {
        "id": "AugVNeRLNpLi",
        "colab_type": "text"
      },
      "source": [
        "#Import Libraries\n",
        "\n",
        "---\n",
        "\n"
      ]
    },
    {
      "cell_type": "code",
      "metadata": {
        "id": "68rB7fRk6rmR",
        "colab_type": "code",
        "colab": {
          "base_uri": "https://localhost:8080/",
          "height": 88
        },
        "outputId": "69bdb845-a35b-4b70-afa7-a608d30cc6ae"
      },
      "source": [
        "# import keras\n",
        "import tensorflow as tf\n",
        "from zipfile import ZipFile\n",
        "from matplotlib import pyplot as plt\n",
        "import cv2\n",
        "import os\n",
        "import seaborn as sn\n",
        "import numpy as np\n",
        "from numpy import expand_dims\n",
        "from keras.preprocessing.image import load_img\n",
        "from keras.preprocessing.image import img_to_array\n",
        "from keras.preprocessing.image import ImageDataGenerator\n",
        "import keras\n",
        "import keras.backend as K\n",
        "from keras.models import Sequential\n",
        "from tensorflow.keras.models import load_model\n",
        "from keras import layers \n",
        "#from keras.applications import VGG16 \n",
        "from keras.layers import Dense, Dropout, Flatten\n",
        "from keras.layers import Conv2D, MaxPooling2D\n",
        "from keras.applications.mobilenet import MobileNet\n",
        "from keras.optimizers import SGD,Adam,RMSprop\n",
        "import pandas as pd\n",
        "from sklearn.metrics import classification_report, confusion_matrix"
      ],
      "execution_count": 1,
      "outputs": [
        {
          "output_type": "stream",
          "text": [
            "/usr/local/lib/python3.6/dist-packages/statsmodels/tools/_testing.py:19: FutureWarning: pandas.util.testing is deprecated. Use the functions in the public API at pandas.testing instead.\n",
            "  import pandas.util.testing as tm\n",
            "Using TensorFlow backend.\n"
          ],
          "name": "stderr"
        }
      ]
    },
    {
      "cell_type": "code",
      "metadata": {
        "id": "_RhPOWYn_GGh",
        "colab_type": "code",
        "outputId": "944b3232-25b9-4c05-e545-66a64b49db36",
        "colab": {
          "base_uri": "https://localhost:8080/",
          "height": 105
        }
      },
      "source": [
        "tf.test.is_gpu_available()"
      ],
      "execution_count": 2,
      "outputs": [
        {
          "output_type": "stream",
          "text": [
            "WARNING:tensorflow:From <ipython-input-2-17bb7203622b>:1: is_gpu_available (from tensorflow.python.framework.test_util) is deprecated and will be removed in a future version.\n",
            "Instructions for updating:\n",
            "Use `tf.config.list_physical_devices('GPU')` instead.\n"
          ],
          "name": "stdout"
        },
        {
          "output_type": "execute_result",
          "data": {
            "text/plain": [
              "True"
            ]
          },
          "metadata": {
            "tags": []
          },
          "execution_count": 2
        }
      ]
    },
    {
      "cell_type": "markdown",
      "metadata": {
        "id": "0K1j8QSnNxDK",
        "colab_type": "text"
      },
      "source": [
        "###Mount Drive\n",
        "\n",
        "---\n",
        "\n"
      ]
    },
    {
      "cell_type": "code",
      "metadata": {
        "id": "Pnp8Xqgb_I2z",
        "colab_type": "code",
        "outputId": "1568c4f8-c7c7-474c-9d81-730151e8b086",
        "colab": {
          "base_uri": "https://localhost:8080/",
          "height": 34
        }
      },
      "source": [
        "from google.colab import drive\n",
        "drive.mount('/content/drive')"
      ],
      "execution_count": 3,
      "outputs": [
        {
          "output_type": "stream",
          "text": [
            "Drive already mounted at /content/drive; to attempt to forcibly remount, call drive.mount(\"/content/drive\", force_remount=True).\n"
          ],
          "name": "stdout"
        }
      ]
    },
    {
      "cell_type": "code",
      "metadata": {
        "id": "3pRkx-NX_uOi",
        "colab_type": "code",
        "outputId": "c0c75a81-8fc4-4aa0-c607-367032d0f7e1",
        "colab": {
          "base_uri": "https://localhost:8080/",
          "height": 34
        }
      },
      "source": [
        "!cd drive && cd 'My Drive' && cd COVID_19 && cd copy_folder && cd covid19-detection-xray-dataset && ls"
      ],
      "execution_count": 4,
      "outputs": [
        {
          "output_type": "stream",
          "text": [
            "NonAugmentedTrain  TrainData  ValData\n"
          ],
          "name": "stdout"
        }
      ]
    },
    {
      "cell_type": "markdown",
      "metadata": {
        "id": "iz-xfRO7OCxX",
        "colab_type": "text"
      },
      "source": [
        "#Image Preprocessing\n",
        "\n",
        "---\n",
        "\n"
      ]
    },
    {
      "cell_type": "markdown",
      "metadata": {
        "id": "UABa-jKgN4SA",
        "colab_type": "text"
      },
      "source": [
        "###ImageDataGenerator\n",
        "\n",
        "---\n",
        "\n"
      ]
    },
    {
      "cell_type": "code",
      "metadata": {
        "id": "xjHYBg5EAeZw",
        "colab_type": "code",
        "outputId": "f6164bbd-2a5d-4819-e2f9-272a6031f912",
        "colab": {
          "base_uri": "https://localhost:8080/",
          "height": 51
        }
      },
      "source": [
        "img_height = 224\n",
        "img_width = 224\n",
        "batch_size = 32\n",
        "\n",
        "train_data_dir = \"/content/drive/My Drive/COVID_19/covid19-detection-xray-dataset/\"\n",
        "test_data_dir = \"/content/drive/My Drive/COVID_19/copy_folder/covid19-detection-xray-dataset/\"\n",
        "train_datagen = ImageDataGenerator( rescale = 1./255)\n",
        "\n",
        "test_datagen = ImageDataGenerator(rescale=1./255)\n",
        "\n",
        "train_generator = train_datagen.flow_from_directory(\n",
        "        train_data_dir+\"TrainData/\",\n",
        "        target_size=(img_height, img_width),\n",
        "        batch_size=32,\n",
        "        class_mode='categorical')\n",
        "\n",
        "validation_generator = test_datagen.flow_from_directory(\n",
        "        test_data_dir+\"ValData/\",\n",
        "        target_size=(img_height, img_width),\n",
        "        batch_size=32,\n",
        "        class_mode='categorical',\n",
        "        shuffle = False)"
      ],
      "execution_count": 5,
      "outputs": [
        {
          "output_type": "stream",
          "text": [
            "Found 2023 images belonging to 4 classes.\n",
            "Found 1257 images belonging to 4 classes.\n"
          ],
          "name": "stdout"
        }
      ]
    },
    {
      "cell_type": "code",
      "metadata": {
        "id": "i6cxf0eTMURV",
        "colab_type": "code",
        "colab": {
          "base_uri": "https://localhost:8080/",
          "height": 34
        },
        "outputId": "398166f4-a647-449d-e20f-a766ab70b891"
      },
      "source": [
        "train_generator.class_indices"
      ],
      "execution_count": 26,
      "outputs": [
        {
          "output_type": "execute_result",
          "data": {
            "text/plain": [
              "{'BacterialPneumonia': 0, 'COVID-19': 1, 'Normal': 2, 'ViralPneumonia': 3}"
            ]
          },
          "metadata": {
            "tags": []
          },
          "execution_count": 26
        }
      ]
    },
    {
      "cell_type": "markdown",
      "metadata": {
        "id": "2Ybh3pIbOPHe",
        "colab_type": "text"
      },
      "source": [
        "#Built Model\n",
        "\n",
        "---\n",
        "\n"
      ]
    },
    {
      "cell_type": "markdown",
      "metadata": {
        "id": "OFETJ61OOLKl",
        "colab_type": "text"
      },
      "source": [
        "###Load Model\n",
        "\n",
        "---\n",
        "\n"
      ]
    },
    {
      "cell_type": "code",
      "metadata": {
        "id": "fi4X9xbKAygq",
        "colab_type": "code",
        "colab": {}
      },
      "source": [
        "loaded_model = load_model(\"/content/drive/My Drive/saved_models/mobilenetv2_finetuned.h5\")"
      ],
      "execution_count": 0,
      "outputs": []
    },
    {
      "cell_type": "code",
      "metadata": {
        "id": "RaQQcLOBCEWV",
        "colab_type": "code",
        "outputId": "6210beaf-3495-46d3-de97-1bcd4f39c9d6",
        "colab": {
          "base_uri": "https://localhost:8080/",
          "height": 255
        }
      },
      "source": [
        "loaded_model.summary()"
      ],
      "execution_count": 7,
      "outputs": [
        {
          "output_type": "stream",
          "text": [
            "Model: \"sequential_2\"\n",
            "_________________________________________________________________\n",
            "Layer (type)                 Output Shape              Param #   \n",
            "=================================================================\n",
            "mobilenetv2_1.00_224 (Model) (None, 7, 7, 1280)        2257984   \n",
            "_________________________________________________________________\n",
            "global_average_pooling2d_2 ( (None, 1280)              0         \n",
            "_________________________________________________________________\n",
            "dense_2 (Dense)              (None, 1)                 1281      \n",
            "=================================================================\n",
            "Total params: 2,259,265\n",
            "Trainable params: 1,863,873\n",
            "Non-trainable params: 395,392\n",
            "_________________________________________________________________\n"
          ],
          "name": "stdout"
        }
      ]
    },
    {
      "cell_type": "code",
      "metadata": {
        "id": "-NKqJw3GC49w",
        "colab_type": "code",
        "outputId": "0f0cfe49-9746-421b-c690-ba92ee32e76c",
        "colab": {
          "base_uri": "https://localhost:8080/",
          "height": 34
        }
      },
      "source": [
        "loaded_model.layers[-2].output"
      ],
      "execution_count": 8,
      "outputs": [
        {
          "output_type": "execute_result",
          "data": {
            "text/plain": [
              "<tf.Tensor 'global_average_pooling2d_2/Identity:0' shape=(None, 1280) dtype=float32>"
            ]
          },
          "metadata": {
            "tags": []
          },
          "execution_count": 8
        }
      ]
    },
    {
      "cell_type": "markdown",
      "metadata": {
        "id": "odNBCIxLOUs5",
        "colab_type": "text"
      },
      "source": [
        "###Remove last layer\n",
        "\n",
        "---\n",
        "\n"
      ]
    },
    {
      "cell_type": "code",
      "metadata": {
        "id": "qzpBB3jFDSDN",
        "colab_type": "code",
        "colab": {}
      },
      "source": [
        "from tensorflow.keras.models import Model\n",
        "loaded_model.layers.pop()\n",
        "loaded_model.layers.pop()\n",
        "top_model = Model(loaded_model.input,loaded_model.layers[-2].output)"
      ],
      "execution_count": 0,
      "outputs": []
    },
    {
      "cell_type": "code",
      "metadata": {
        "id": "W0Q5DxbLDuW_",
        "colab_type": "code",
        "outputId": "0f063556-7489-486a-f162-3bf5e7eb29fd",
        "colab": {
          "base_uri": "https://localhost:8080/",
          "height": 255
        }
      },
      "source": [
        "top_model.summary()"
      ],
      "execution_count": 10,
      "outputs": [
        {
          "output_type": "stream",
          "text": [
            "Model: \"model\"\n",
            "_________________________________________________________________\n",
            "Layer (type)                 Output Shape              Param #   \n",
            "=================================================================\n",
            "mobilenetv2_1.00_224_input ( [(None, 224, 224, 3)]     0         \n",
            "_________________________________________________________________\n",
            "mobilenetv2_1.00_224 (Model) (None, 7, 7, 1280)        2257984   \n",
            "_________________________________________________________________\n",
            "global_average_pooling2d_2 ( (None, 1280)              0         \n",
            "=================================================================\n",
            "Total params: 2,257,984\n",
            "Trainable params: 1,862,592\n",
            "Non-trainable params: 395,392\n",
            "_________________________________________________________________\n"
          ],
          "name": "stdout"
        }
      ]
    },
    {
      "cell_type": "code",
      "metadata": {
        "id": "CfmdK2rzDv4V",
        "colab_type": "code",
        "colab": {}
      },
      "source": [
        "top_model.trainable = False"
      ],
      "execution_count": 0,
      "outputs": []
    },
    {
      "cell_type": "code",
      "metadata": {
        "id": "uu9gg-59D80g",
        "colab_type": "code",
        "colab": {}
      },
      "source": [
        "hidden_layer = tf.keras.layers.Dense(64,activation=\"relu\")\n",
        "dropout_layer = tf.keras.layers.Dropout(0.5)\n",
        "prediction_layer = tf.keras.layers.Dense(4,activation=\"softmax\")"
      ],
      "execution_count": 0,
      "outputs": []
    },
    {
      "cell_type": "markdown",
      "metadata": {
        "id": "TRbAakCbOct1",
        "colab_type": "text"
      },
      "source": [
        "###Transfer learning using model trained on Mendleye data with binary classification\n",
        "\n",
        "---\n",
        "\n"
      ]
    },
    {
      "cell_type": "code",
      "metadata": {
        "id": "sF3vqQMbED7k",
        "colab_type": "code",
        "colab": {}
      },
      "source": [
        "model = tf.keras.Sequential([\n",
        "  top_model,\n",
        "  hidden_layer,\n",
        "  dropout_layer,\n",
        "  prediction_layer\n",
        "])"
      ],
      "execution_count": 0,
      "outputs": []
    },
    {
      "cell_type": "markdown",
      "metadata": {
        "id": "hiMRAidGOw2y",
        "colab_type": "text"
      },
      "source": [
        "###Final model summary\n",
        "\n",
        "---\n",
        "\n"
      ]
    },
    {
      "cell_type": "code",
      "metadata": {
        "id": "ERX6Gyj7EISZ",
        "colab_type": "code",
        "outputId": "3b0824b5-32b7-4bf0-c1ef-f85bcfae01b9",
        "colab": {
          "base_uri": "https://localhost:8080/",
          "height": 289
        }
      },
      "source": [
        "model.summary()"
      ],
      "execution_count": 14,
      "outputs": [
        {
          "output_type": "stream",
          "text": [
            "Model: \"sequential\"\n",
            "_________________________________________________________________\n",
            "Layer (type)                 Output Shape              Param #   \n",
            "=================================================================\n",
            "model (Model)                (None, 1280)              2257984   \n",
            "_________________________________________________________________\n",
            "dense (Dense)                (None, 64)                81984     \n",
            "_________________________________________________________________\n",
            "dropout (Dropout)            (None, 64)                0         \n",
            "_________________________________________________________________\n",
            "dense_1 (Dense)              (None, 4)                 260       \n",
            "=================================================================\n",
            "Total params: 2,340,228\n",
            "Trainable params: 82,244\n",
            "Non-trainable params: 2,257,984\n",
            "_________________________________________________________________\n"
          ],
          "name": "stdout"
        }
      ]
    },
    {
      "cell_type": "markdown",
      "metadata": {
        "id": "UsA3EG7VO1Fj",
        "colab_type": "text"
      },
      "source": [
        "###Model Compiling\n",
        "\n",
        "---\n",
        "\n"
      ]
    },
    {
      "cell_type": "code",
      "metadata": {
        "id": "xYCJxvX-EL3a",
        "colab_type": "code",
        "colab": {}
      },
      "source": [
        "base_learning_rate = 0.0001\n",
        "model.compile(loss = 'categorical_crossentropy', optimizer=tf.keras.optimizers.Adam(lr=0.0001, decay=0.0),metrics=['accuracy'])"
      ],
      "execution_count": 0,
      "outputs": []
    },
    {
      "cell_type": "markdown",
      "metadata": {
        "id": "uFo4ll8fO50B",
        "colab_type": "text"
      },
      "source": [
        "###Use EarlyStop and Csv Logger\n",
        "\n",
        "---\n",
        "\n"
      ]
    },
    {
      "cell_type": "code",
      "metadata": {
        "id": "AKeY14ycEjIy",
        "colab_type": "code",
        "colab": {}
      },
      "source": [
        "from tensorflow.keras.callbacks import CSVLogger,EarlyStopping\n",
        "csv_logger = CSVLogger('Multi_Class_MobileNet.csv', append=False, separator=';')\n",
        "#ES = EarlyStopping(monitor='val_accuracy', patience=3)"
      ],
      "execution_count": 0,
      "outputs": []
    },
    {
      "cell_type": "markdown",
      "metadata": {
        "id": "DnkP8euHO_Sk",
        "colab_type": "text"
      },
      "source": [
        "###Fit model\n",
        "\n",
        "---\n",
        "\n"
      ]
    },
    {
      "cell_type": "code",
      "metadata": {
        "id": "aHl7R2fDEfEn",
        "colab_type": "code",
        "outputId": "b71f4716-8932-42d2-953d-df2f11457938",
        "colab": {
          "base_uri": "https://localhost:8080/",
          "height": 527
        }
      },
      "source": [
        "\n",
        "history = model.fit(train_generator,steps_per_epoch=64,epochs = 15,validation_data=validation_generator,validation_steps= 40,callbacks=[csv_logger],verbose=1)"
      ],
      "execution_count": 17,
      "outputs": [
        {
          "output_type": "stream",
          "text": [
            "Epoch 1/15\n",
            "64/64 [==============================] - 1369s 21s/step - loss: 1.2718 - accuracy: 0.4271 - val_loss: 1.2960 - val_accuracy: 0.4837\n",
            "Epoch 2/15\n",
            "64/64 [==============================] - 44s 682ms/step - loss: 0.9999 - accuracy: 0.5868 - val_loss: 1.0771 - val_accuracy: 0.5505\n",
            "Epoch 3/15\n",
            "64/64 [==============================] - 44s 692ms/step - loss: 0.8784 - accuracy: 0.6362 - val_loss: 0.9476 - val_accuracy: 0.6094\n",
            "Epoch 4/15\n",
            "64/64 [==============================] - 46s 716ms/step - loss: 0.7814 - accuracy: 0.6826 - val_loss: 0.8290 - val_accuracy: 0.6937\n",
            "Epoch 5/15\n",
            "64/64 [==============================] - 47s 729ms/step - loss: 0.7388 - accuracy: 0.6886 - val_loss: 0.7665 - val_accuracy: 0.7232\n",
            "Epoch 6/15\n",
            "64/64 [==============================] - 46s 723ms/step - loss: 0.6811 - accuracy: 0.7163 - val_loss: 0.7382 - val_accuracy: 0.7319\n",
            "Epoch 7/15\n",
            "64/64 [==============================] - 47s 736ms/step - loss: 0.6720 - accuracy: 0.7232 - val_loss: 0.7033 - val_accuracy: 0.7494\n",
            "Epoch 8/15\n",
            "64/64 [==============================] - 47s 738ms/step - loss: 0.6265 - accuracy: 0.7360 - val_loss: 0.6772 - val_accuracy: 0.7589\n",
            "Epoch 9/15\n",
            "64/64 [==============================] - 47s 734ms/step - loss: 0.6036 - accuracy: 0.7509 - val_loss: 0.6809 - val_accuracy: 0.7446\n",
            "Epoch 10/15\n",
            "64/64 [==============================] - 47s 732ms/step - loss: 0.5932 - accuracy: 0.7593 - val_loss: 0.6550 - val_accuracy: 0.7558\n",
            "Epoch 11/15\n",
            "64/64 [==============================] - 47s 731ms/step - loss: 0.5652 - accuracy: 0.7706 - val_loss: 0.6361 - val_accuracy: 0.7637\n",
            "Epoch 12/15\n",
            "64/64 [==============================] - 48s 748ms/step - loss: 0.5470 - accuracy: 0.7785 - val_loss: 0.6283 - val_accuracy: 0.7613\n",
            "Epoch 13/15\n",
            "64/64 [==============================] - 47s 736ms/step - loss: 0.5352 - accuracy: 0.7761 - val_loss: 0.6201 - val_accuracy: 0.7717\n",
            "Epoch 14/15\n",
            "64/64 [==============================] - 47s 740ms/step - loss: 0.5211 - accuracy: 0.7855 - val_loss: 0.6262 - val_accuracy: 0.7669\n",
            "Epoch 15/15\n",
            "64/64 [==============================] - 45s 698ms/step - loss: 0.4980 - accuracy: 0.7855 - val_loss: 0.6085 - val_accuracy: 0.7749\n"
          ],
          "name": "stdout"
        }
      ]
    },
    {
      "cell_type": "markdown",
      "metadata": {
        "id": "GtCE1FtMPDFl",
        "colab_type": "text"
      },
      "source": [
        "#Outputs\n",
        "\n",
        "---\n",
        "\n"
      ]
    },
    {
      "cell_type": "markdown",
      "metadata": {
        "id": "LJVO-d29PHXN",
        "colab_type": "text"
      },
      "source": [
        "###Accuracy and Loss Plot\n",
        "\n",
        "---\n",
        "\n"
      ]
    },
    {
      "cell_type": "code",
      "metadata": {
        "id": "kC13FszpEteX",
        "colab_type": "code",
        "outputId": "7e5abadd-27c9-4091-c099-53515b767854",
        "colab": {
          "base_uri": "https://localhost:8080/",
          "height": 449
        }
      },
      "source": [
        "import matplotlib.pyplot as plt\n",
        "acc = history.history['accuracy']\n",
        "val_acc = history.history['val_accuracy']\n",
        "\n",
        "loss = history.history['loss']\n",
        "val_loss = history.history['val_loss']\n",
        "\n",
        "plt.figure(figsize=(15, 15))\n",
        "plt.subplot(2, 2, 1)\n",
        "plt.plot(acc, label='Training Accuracy')\n",
        "plt.plot(val_acc, label='Validation Accuracy')\n",
        "plt.legend(loc='lower right')\n",
        "plt.ylabel('Accuracy')\n",
        "plt.ylim([min(plt.ylim()),1])\n",
        "plt.title('Training and Validation Accuracy')\n",
        "\n",
        "plt.subplot(2, 2, 2)\n",
        "plt.plot(loss, label='Training Loss')\n",
        "plt.plot(val_loss, label='Validation Loss')\n",
        "plt.legend(loc='upper right')\n",
        "plt.ylabel('Cross Entropy')\n",
        "plt.ylim([0,1.0])\n",
        "plt.title('Training and Validation Loss')\n",
        "plt.xlabel('epoch')\n",
        "plt.show()"
      ],
      "execution_count": 18,
      "outputs": [
        {
          "output_type": "display_data",
          "data": {
            "image/png": "[encoded data removed]",
            "text/plain": [
              "<Figure size 1080x1080 with 2 Axes>"
            ]
          },
          "metadata": {
            "tags": [],
            "needs_background": "light"
          }
        }
      ]
    },
    {
      "cell_type": "markdown",
      "metadata": {
        "id": "MoTfIVrBPNb_",
        "colab_type": "text"
      },
      "source": [
        "###Confusion Matrix\n",
        "\n",
        "---\n",
        "\n"
      ]
    },
    {
      "cell_type": "code",
      "metadata": {
        "id": "qTmy5nKvODDe",
        "colab_type": "code",
        "outputId": "00b9e7e6-8534-41d3-c7fb-ebc0aed14414",
        "colab": {
          "base_uri": "https://localhost:8080/",
          "height": 377
        }
      },
      "source": [
        "import seaborn as sn\n",
        "import pandas as pd\n",
        "import numpy as np\n",
        "import matplotlib.pyplot as plt\n",
        "from sklearn.metrics import classification_report, confusion_matrix\n",
        "validation_generator.reset()\n",
        "Y_preds=model.predict_generator(validation_generator,40)\n",
        "y_pred = np.argmax(Y_preds, axis=1)\n",
        "Matrix = confusion_matrix(validation_generator.classes, y_pred)\n",
        "print('Confusion Matrix')\n",
        "print(Matrix)\n",
        "print('Classification Report')\n",
        "target_names = ['BN', 'COVID-19', 'Normal', 'VN']\n",
        "print(classification_report(validation_generator.classes, y_pred, target_names=target_names))"
      ],
      "execution_count": 19,
      "outputs": [
        {
          "output_type": "stream",
          "text": [
            "WARNING:tensorflow:From <ipython-input-19-50ad6377e55f>:7: Model.predict_generator (from tensorflow.python.keras.engine.training) is deprecated and will be removed in a future version.\n",
            "Instructions for updating:\n",
            "Please use Model.predict, which supports generators.\n",
            "Confusion Matrix\n",
            "[[242   4  64  14]\n",
            " [ 29 239  10   0]\n",
            " [  2   0 448   0]\n",
            " [ 89   5  66  45]]\n",
            "Classification Report\n",
            "              precision    recall  f1-score   support\n",
            "\n",
            "          BN       0.67      0.75      0.71       324\n",
            "    COVID-19       0.96      0.86      0.91       278\n",
            "      Normal       0.76      1.00      0.86       450\n",
            "          VN       0.76      0.22      0.34       205\n",
            "\n",
            "    accuracy                           0.77      1257\n",
            "   macro avg       0.79      0.71      0.70      1257\n",
            "weighted avg       0.78      0.77      0.75      1257\n",
            "\n"
          ],
          "name": "stdout"
        }
      ]
    },
    {
      "cell_type": "code",
      "metadata": {
        "id": "0EaHVmBuXRUG",
        "colab_type": "code",
        "outputId": "547e356c-a35c-40fa-f733-31ec0836b288",
        "colab": {
          "base_uri": "https://localhost:8080/",
          "height": 273
        }
      },
      "source": [
        "df_cm = pd.DataFrame(Matrix, target_names, target_names)\n",
        "sn.set(font_scale=1.4) # for label size\n",
        "sn.heatmap(df_cm, annot=True, annot_kws={\"size\": 16}) # font size\n",
        "\n",
        "plt.show()"
      ],
      "execution_count": 20,
      "outputs": [
        {
          "output_type": "display_data",
          "data": {
            "image/png": "[encoded data removed]",
            "text/plain": [
              "<Figure size 432x288 with 2 Axes>"
            ]
          },
          "metadata": {
            "tags": []
          }
        }
      ]
    },
    {
      "cell_type": "markdown",
      "metadata": {
        "id": "Dup9SYIOPSkm",
        "colab_type": "text"
      },
      "source": [
        "###Test Images\n",
        "\n",
        "---\n",
        "\n"
      ]
    },
    {
      "cell_type": "code",
      "metadata": {
        "id": "afLAyoaR-qEg",
        "colab_type": "code",
        "colab": {}
      },
      "source": [
        "model.save(\"/content/drive/My Drive/saved_models/Multi_Class_Covid_MobileNetV2_4class.h5\")"
      ],
      "execution_count": 0,
      "outputs": []
    },
    {
      "cell_type": "code",
      "metadata": {
        "id": "xwLHj2-KLRg8",
        "colab_type": "code",
        "colab": {
          "base_uri": "https://localhost:8080/",
          "height": 88
        },
        "outputId": "be3c350c-2ed7-40ad-8835-b86168930d3d"
      },
      "source": [
        "score = model.evaluate_generator(validation_generator,steps=40)"
      ],
      "execution_count": 22,
      "outputs": [
        {
          "output_type": "stream",
          "text": [
            "WARNING:tensorflow:From <ipython-input-22-332590fbaec4>:1: Model.evaluate_generator (from tensorflow.python.keras.engine.training) is deprecated and will be removed in a future version.\n",
            "Instructions for updating:\n",
            "Please use Model.evaluate, which supports generators.\n"
          ],
          "name": "stdout"
        }
      ]
    },
    {
      "cell_type": "code",
      "metadata": {
        "id": "m-dKPFCCMEX8",
        "colab_type": "code",
        "outputId": "74a94ac7-3d76-4d68-9758-1e0802aed0c4",
        "colab": {
          "base_uri": "https://localhost:8080/",
          "height": 34
        }
      },
      "source": [
        "score[1]"
      ],
      "execution_count": 23,
      "outputs": [
        {
          "output_type": "execute_result",
          "data": {
            "text/plain": [
              "0.7748607993125916"
            ]
          },
          "metadata": {
            "tags": []
          },
          "execution_count": 23
        }
      ]
    },
    {
      "cell_type": "code",
      "metadata": {
        "id": "1AdJ7JYXQZlf",
        "colab_type": "code",
        "colab": {}
      },
      "source": [
        "from google.colab import files\n",
        "files.download('Multi_Class_MobileNet.csv')"
      ],
      "execution_count": 0,
      "outputs": []
    },
    {
      "cell_type": "code",
      "metadata": {
        "id": "0Mc0Pr-n14IP",
        "colab_type": "code",
        "colab": {}
      },
      "source": [
        ""
      ],
      "execution_count": 0,
      "outputs": []
    }
  ]
}