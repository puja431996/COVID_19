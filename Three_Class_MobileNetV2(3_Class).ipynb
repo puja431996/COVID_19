{
  "nbformat": 4,
  "nbformat_minor": 0,
  "metadata": {
    "colab": {
      "name": "Three_Class_MobileNetV2(3_Class).ipynb",
      "provenance": [],
      "include_colab_link": true
    },
    "kernelspec": {
      "name": "python3",
      "display_name": "Python 3"
    },
    "accelerator": "GPU"
  },
  "cells": [
    {
      "cell_type": "markdown",
      "metadata": {
        "id": "view-in-github",
        "colab_type": "text"
      },
      "source": [
        "<a href=\"https://colab.research.google.com/github/puja431996/Notebook/blob/master/Three_Class_MobileNetV2(3_Class).ipynb\" target=\"_parent\"><img src=\"https://colab.research.google.com/assets/colab-badge.svg\" alt=\"Open In Colab\"/></a>"
      ]
    },
    {
      "cell_type": "markdown",
      "metadata": {
        "id": "AugVNeRLNpLi",
        "colab_type": "text"
      },
      "source": [
        "#Import Libraries\n",
        "\n",
        "---\n",
        "\n"
      ]
    },
    {
      "cell_type": "code",
      "metadata": {
        "id": "68rB7fRk6rmR",
        "colab_type": "code",
        "outputId": "302dec18-4977-4b95-890d-a9b1fa578e0e",
        "colab": {
          "base_uri": "https://localhost:8080/",
          "height": 88
        }
      },
      "source": [
        "# import keras\n",
        "import tensorflow as tf\n",
        "from zipfile import ZipFile\n",
        "from matplotlib import pyplot as plt\n",
        "import cv2\n",
        "import os\n",
        "import seaborn as sn\n",
        "import numpy as np\n",
        "from numpy import expand_dims\n",
        "from keras.preprocessing.image import load_img\n",
        "from keras.preprocessing.image import img_to_array\n",
        "from keras.preprocessing.image import ImageDataGenerator\n",
        "import keras\n",
        "import keras.backend as K\n",
        "from keras.models import Sequential\n",
        "from tensorflow.keras.models import load_model\n",
        "from keras import layers \n",
        "#from keras.applications import VGG16 \n",
        "from keras.layers import Dense, Dropout, Flatten\n",
        "from keras.layers import Conv2D, MaxPooling2D\n",
        "from keras.applications.mobilenet import MobileNet\n",
        "from keras.optimizers import SGD,Adam,RMSprop\n",
        "import pandas as pd\n",
        "from sklearn.metrics import classification_report, confusion_matrix"
      ],
      "execution_count": 0,
      "outputs": [
        {
          "output_type": "stream",
          "text": [
            "/usr/local/lib/python3.6/dist-packages/statsmodels/tools/_testing.py:19: FutureWarning: pandas.util.testing is deprecated. Use the functions in the public API at pandas.testing instead.\n",
            "  import pandas.util.testing as tm\n",
            "Using TensorFlow backend.\n"
          ],
          "name": "stderr"
        }
      ]
    },
    {
      "cell_type": "code",
      "metadata": {
        "id": "_RhPOWYn_GGh",
        "colab_type": "code",
        "outputId": "9cb10eef-bcf4-4d2a-d214-b1dc8ffb6887",
        "colab": {
          "base_uri": "https://localhost:8080/",
          "height": 105
        }
      },
      "source": [
        "tf.test.is_gpu_available()"
      ],
      "execution_count": 0,
      "outputs": [
        {
          "output_type": "stream",
          "text": [
            "WARNING:tensorflow:From <ipython-input-2-17bb7203622b>:1: is_gpu_available (from tensorflow.python.framework.test_util) is deprecated and will be removed in a future version.\n",
            "Instructions for updating:\n",
            "Use `tf.config.list_physical_devices('GPU')` instead.\n"
          ],
          "name": "stdout"
        },
        {
          "output_type": "execute_result",
          "data": {
            "text/plain": [
              "True"
            ]
          },
          "metadata": {
            "tags": []
          },
          "execution_count": 2
        }
      ]
    },
    {
      "cell_type": "markdown",
      "metadata": {
        "id": "0K1j8QSnNxDK",
        "colab_type": "text"
      },
      "source": [
        "###Mount Drive\n",
        "\n",
        "---\n",
        "\n"
      ]
    },
    {
      "cell_type": "code",
      "metadata": {
        "id": "Pnp8Xqgb_I2z",
        "colab_type": "code",
        "outputId": "ff6f7a07-c1b6-4fb7-f923-9915f3b39388",
        "colab": {
          "base_uri": "https://localhost:8080/",
          "height": 122
        }
      },
      "source": [
        "from google.colab import drive\n",
        "drive.mount('/content/drive')"
      ],
      "execution_count": 0,
      "outputs": [
        {
          "output_type": "stream",
          "text": [
            "Go to this URL in a browser: https://accounts.google.com/o/oauth2/auth?client_id=947318989803-6bn6qk8qdgf4n4g3pfee6491hc0brc4i.apps.googleusercontent.com&redirect_uri=urn%3aietf%3awg%3aoauth%3a2.0%3aoob&response_type=code&scope=email%20https%3a%2f%2fwww.googleapis.com%2fauth%2fdocs.test%20https%3a%2f%2fwww.googleapis.com%2fauth%2fdrive%20https%3a%2f%2fwww.googleapis.com%2fauth%2fdrive.photos.readonly%20https%3a%2f%2fwww.googleapis.com%2fauth%2fpeopleapi.readonly\n",
            "\n",
            "Enter your authorization code:\n",
            "··········\n",
            "Mounted at /content/drive\n"
          ],
          "name": "stdout"
        }
      ]
    },
    {
      "cell_type": "code",
      "metadata": {
        "id": "3pRkx-NX_uOi",
        "colab_type": "code",
        "outputId": "5de76921-b4c6-4544-ab0a-c7b207990965",
        "colab": {
          "base_uri": "https://localhost:8080/",
          "height": 34
        }
      },
      "source": [
        "!cd drive && cd 'My Drive' && cd COVID_19 && cd covid19-detection-xray-dataset_3_Class && ls"
      ],
      "execution_count": 0,
      "outputs": [
        {
          "output_type": "stream",
          "text": [
            "TrainData  ValData\n"
          ],
          "name": "stdout"
        }
      ]
    },
    {
      "cell_type": "markdown",
      "metadata": {
        "id": "iz-xfRO7OCxX",
        "colab_type": "text"
      },
      "source": [
        "#Image Preprocessing\n",
        "\n",
        "---\n",
        "\n"
      ]
    },
    {
      "cell_type": "markdown",
      "metadata": {
        "id": "UABa-jKgN4SA",
        "colab_type": "text"
      },
      "source": [
        "###ImageDataGenerator\n",
        "\n",
        "---\n",
        "\n"
      ]
    },
    {
      "cell_type": "code",
      "metadata": {
        "id": "xjHYBg5EAeZw",
        "colab_type": "code",
        "outputId": "c3c64ca2-6a13-4845-e60e-94c94df90939",
        "colab": {
          "base_uri": "https://localhost:8080/",
          "height": 51
        }
      },
      "source": [
        "img_height = 224\n",
        "img_width = 224\n",
        "batch_size = 32\n",
        "\n",
        "train_data_dir = \"/content/drive/My Drive/COVID_19/covid19-detection-xray-dataset_3_Class/\"\n",
        "train_datagen = ImageDataGenerator( rescale = 1./255)\n",
        "\n",
        "test_datagen = ImageDataGenerator(rescale=1./255)\n",
        "\n",
        "train_generator = train_datagen.flow_from_directory(\n",
        "        train_data_dir+\"TrainData/\",\n",
        "        target_size=(img_height, img_width),\n",
        "        batch_size=32,\n",
        "        class_mode='categorical')\n",
        "\n",
        "validation_generator = test_datagen.flow_from_directory(\n",
        "        train_data_dir+\"ValData/\",\n",
        "        target_size=(img_height, img_width),\n",
        "        batch_size=1,\n",
        "        class_mode='categorical',\n",
        "        shuffle = False)"
      ],
      "execution_count": 0,
      "outputs": [
        {
          "output_type": "stream",
          "text": [
            "Found 2143 images belonging to 3 classes.\n",
            "Found 1263 images belonging to 3 classes.\n"
          ],
          "name": "stdout"
        }
      ]
    },
    {
      "cell_type": "markdown",
      "metadata": {
        "id": "cg6wb7PZl6cS",
        "colab_type": "text"
      },
      "source": [
        "#Tansfer Learning\n",
        "\n",
        "---\n",
        "\n"
      ]
    },
    {
      "cell_type": "markdown",
      "metadata": {
        "id": "2Ybh3pIbOPHe",
        "colab_type": "text"
      },
      "source": [
        "##Built Model\n",
        "\n",
        "---\n",
        "\n"
      ]
    },
    {
      "cell_type": "markdown",
      "metadata": {
        "id": "OFETJ61OOLKl",
        "colab_type": "text"
      },
      "source": [
        "###Load Model\n",
        "\n",
        "---\n",
        "\n"
      ]
    },
    {
      "cell_type": "code",
      "metadata": {
        "id": "fi4X9xbKAygq",
        "colab_type": "code",
        "colab": {}
      },
      "source": [
        "loaded_model = load_model(\"/content/drive/My Drive/saved_models/mobilenetv2_finetuned.h5\")"
      ],
      "execution_count": 0,
      "outputs": []
    },
    {
      "cell_type": "code",
      "metadata": {
        "id": "RaQQcLOBCEWV",
        "colab_type": "code",
        "outputId": "d92d0061-41a0-45c8-b015-f0467d479ea2",
        "colab": {
          "base_uri": "https://localhost:8080/",
          "height": 255
        }
      },
      "source": [
        "loaded_model.summary()"
      ],
      "execution_count": 0,
      "outputs": [
        {
          "output_type": "stream",
          "text": [
            "Model: \"sequential_2\"\n",
            "_________________________________________________________________\n",
            "Layer (type)                 Output Shape              Param #   \n",
            "=================================================================\n",
            "mobilenetv2_1.00_224 (Model) (None, 7, 7, 1280)        2257984   \n",
            "_________________________________________________________________\n",
            "global_average_pooling2d_2 ( (None, 1280)              0         \n",
            "_________________________________________________________________\n",
            "dense_2 (Dense)              (None, 1)                 1281      \n",
            "=================================================================\n",
            "Total params: 2,259,265\n",
            "Trainable params: 1,863,873\n",
            "Non-trainable params: 395,392\n",
            "_________________________________________________________________\n"
          ],
          "name": "stdout"
        }
      ]
    },
    {
      "cell_type": "code",
      "metadata": {
        "id": "-NKqJw3GC49w",
        "colab_type": "code",
        "outputId": "d95c2773-5187-450a-cb3a-3336cdbd6215",
        "colab": {
          "base_uri": "https://localhost:8080/",
          "height": 34
        }
      },
      "source": [
        "loaded_model.layers[-2].output"
      ],
      "execution_count": 0,
      "outputs": [
        {
          "output_type": "execute_result",
          "data": {
            "text/plain": [
              "<tf.Tensor 'global_average_pooling2d_2/Identity:0' shape=(None, 1280) dtype=float32>"
            ]
          },
          "metadata": {
            "tags": []
          },
          "execution_count": 8
        }
      ]
    },
    {
      "cell_type": "markdown",
      "metadata": {
        "id": "odNBCIxLOUs5",
        "colab_type": "text"
      },
      "source": [
        "###Remove last layer\n",
        "\n",
        "---\n",
        "\n"
      ]
    },
    {
      "cell_type": "code",
      "metadata": {
        "id": "qzpBB3jFDSDN",
        "colab_type": "code",
        "colab": {}
      },
      "source": [
        "from tensorflow.keras.models import Model\n",
        "loaded_model.layers.pop()\n",
        "loaded_model.layers.pop()\n",
        "top_model = Model(loaded_model.input,loaded_model.layers[-2].output)"
      ],
      "execution_count": 0,
      "outputs": []
    },
    {
      "cell_type": "code",
      "metadata": {
        "id": "W0Q5DxbLDuW_",
        "colab_type": "code",
        "outputId": "c85375fa-0ff2-44f6-ed93-39338ed56efa",
        "colab": {
          "base_uri": "https://localhost:8080/",
          "height": 255
        }
      },
      "source": [
        "top_model.summary()"
      ],
      "execution_count": 0,
      "outputs": [
        {
          "output_type": "stream",
          "text": [
            "Model: \"model\"\n",
            "_________________________________________________________________\n",
            "Layer (type)                 Output Shape              Param #   \n",
            "=================================================================\n",
            "mobilenetv2_1.00_224_input ( [(None, 224, 224, 3)]     0         \n",
            "_________________________________________________________________\n",
            "mobilenetv2_1.00_224 (Model) (None, 7, 7, 1280)        2257984   \n",
            "_________________________________________________________________\n",
            "global_average_pooling2d_2 ( (None, 1280)              0         \n",
            "=================================================================\n",
            "Total params: 2,257,984\n",
            "Trainable params: 1,862,592\n",
            "Non-trainable params: 395,392\n",
            "_________________________________________________________________\n"
          ],
          "name": "stdout"
        }
      ]
    },
    {
      "cell_type": "code",
      "metadata": {
        "id": "CfmdK2rzDv4V",
        "colab_type": "code",
        "colab": {}
      },
      "source": [
        "top_model.trainable = False"
      ],
      "execution_count": 0,
      "outputs": []
    },
    {
      "cell_type": "code",
      "metadata": {
        "id": "w96FKggv5Z1g",
        "colab_type": "code",
        "outputId": "0c1fc4a8-43c3-4717-fbd9-c0fb36a70f87",
        "colab": {
          "base_uri": "https://localhost:8080/",
          "height": 255
        }
      },
      "source": [
        "top_model.summary()"
      ],
      "execution_count": 0,
      "outputs": [
        {
          "output_type": "stream",
          "text": [
            "Model: \"model\"\n",
            "_________________________________________________________________\n",
            "Layer (type)                 Output Shape              Param #   \n",
            "=================================================================\n",
            "mobilenetv2_1.00_224_input ( [(None, 224, 224, 3)]     0         \n",
            "_________________________________________________________________\n",
            "mobilenetv2_1.00_224 (Model) (None, 7, 7, 1280)        2257984   \n",
            "_________________________________________________________________\n",
            "global_average_pooling2d_2 ( (None, 1280)              0         \n",
            "=================================================================\n",
            "Total params: 2,257,984\n",
            "Trainable params: 0\n",
            "Non-trainable params: 2,257,984\n",
            "_________________________________________________________________\n"
          ],
          "name": "stdout"
        }
      ]
    },
    {
      "cell_type": "code",
      "metadata": {
        "id": "uu9gg-59D80g",
        "colab_type": "code",
        "colab": {}
      },
      "source": [
        "hidden_layer = tf.keras.layers.Dense(64,activation=\"relu\")\n",
        "dropout_layer = tf.keras.layers.Dropout(0.5) \n",
        "#hidden_layer1 = tf.keras.layers.Dense(32,activation=\"relu\")\n",
        "#dropout_layer1 = tf.keras.layers.Dropout(0.5)   #0.5\n",
        "prediction_layer = tf.keras.layers.Dense(3,activation=\"softmax\")"
      ],
      "execution_count": 0,
      "outputs": []
    },
    {
      "cell_type": "markdown",
      "metadata": {
        "id": "TRbAakCbOct1",
        "colab_type": "text"
      },
      "source": [
        "###Transfer learning using model trained on Mendleye data with binary classification\n",
        "\n",
        "---\n",
        "\n"
      ]
    },
    {
      "cell_type": "code",
      "metadata": {
        "id": "sF3vqQMbED7k",
        "colab_type": "code",
        "colab": {}
      },
      "source": [
        "model = tf.keras.Sequential([\n",
        "  top_model,\n",
        "  hidden_layer,\n",
        "  dropout_layer,\n",
        "  prediction_layer\n",
        "])"
      ],
      "execution_count": 0,
      "outputs": []
    },
    {
      "cell_type": "markdown",
      "metadata": {
        "id": "hiMRAidGOw2y",
        "colab_type": "text"
      },
      "source": [
        "###Final model summary\n",
        "\n",
        "---\n",
        "\n"
      ]
    },
    {
      "cell_type": "code",
      "metadata": {
        "id": "ERX6Gyj7EISZ",
        "colab_type": "code",
        "outputId": "68e9150f-2f91-41aa-c416-c8e2544c9e87",
        "colab": {
          "base_uri": "https://localhost:8080/",
          "height": 289
        }
      },
      "source": [
        "model.summary()"
      ],
      "execution_count": 0,
      "outputs": [
        {
          "output_type": "stream",
          "text": [
            "Model: \"sequential\"\n",
            "_________________________________________________________________\n",
            "Layer (type)                 Output Shape              Param #   \n",
            "=================================================================\n",
            "model (Model)                (None, 1280)              2257984   \n",
            "_________________________________________________________________\n",
            "dense (Dense)                (None, 64)                81984     \n",
            "_________________________________________________________________\n",
            "dropout (Dropout)            (None, 64)                0         \n",
            "_________________________________________________________________\n",
            "dense_1 (Dense)              (None, 3)                 195       \n",
            "=================================================================\n",
            "Total params: 2,340,163\n",
            "Trainable params: 82,179\n",
            "Non-trainable params: 2,257,984\n",
            "_________________________________________________________________\n"
          ],
          "name": "stdout"
        }
      ]
    },
    {
      "cell_type": "markdown",
      "metadata": {
        "id": "UsA3EG7VO1Fj",
        "colab_type": "text"
      },
      "source": [
        "###Model Compiling\n",
        "\n",
        "---\n",
        "\n"
      ]
    },
    {
      "cell_type": "code",
      "metadata": {
        "id": "xYCJxvX-EL3a",
        "colab_type": "code",
        "colab": {}
      },
      "source": [
        "model.compile(loss = 'categorical_crossentropy', optimizer=tf.keras.optimizers.Adam(lr=0.001, decay=0.0),metrics=['accuracy'])        #0.0001"
      ],
      "execution_count": 0,
      "outputs": []
    },
    {
      "cell_type": "markdown",
      "metadata": {
        "id": "uFo4ll8fO50B",
        "colab_type": "text"
      },
      "source": [
        "###Use EarlyStop and Csv Logger\n",
        "\n",
        "---\n",
        "\n"
      ]
    },
    {
      "cell_type": "code",
      "metadata": {
        "id": "AKeY14ycEjIy",
        "colab_type": "code",
        "colab": {}
      },
      "source": [
        "from tensorflow.keras.callbacks import CSVLogger,EarlyStopping\n",
        "csv_logger = CSVLogger('Multi_Class_MobileNetV2_3_class_FineTune.csv', append=False, separator=';')\n",
        "#ES = EarlyStopping(monitor='val_accuracy', patience=3)"
      ],
      "execution_count": 0,
      "outputs": []
    },
    {
      "cell_type": "markdown",
      "metadata": {
        "id": "DnkP8euHO_Sk",
        "colab_type": "text"
      },
      "source": [
        "###Fit model\n",
        "\n",
        "---\n",
        "\n"
      ]
    },
    {
      "cell_type": "code",
      "metadata": {
        "id": "aHl7R2fDEfEn",
        "colab_type": "code",
        "outputId": "db40741c-0610-4a5a-cfc5-a4292045f86e",
        "colab": {
          "base_uri": "https://localhost:8080/",
          "height": 697
        }
      },
      "source": [
        "history = model.fit(train_generator,steps_per_epoch=67,epochs = 20,validation_data=validation_generator,validation_steps= 1263,verbose=1,callbacks=[csv_logger])"
      ],
      "execution_count": 0,
      "outputs": [
        {
          "output_type": "stream",
          "text": [
            "Epoch 1/20\n",
            "67/67 [==============================] - 1700s 25s/step - loss: 0.4736 - accuracy: 0.7984 - val_loss: 0.3911 - val_accuracy: 0.8306\n",
            "Epoch 2/20\n",
            "67/67 [==============================] - 48s 717ms/step - loss: 0.2938 - accuracy: 0.8819 - val_loss: 0.3261 - val_accuracy: 0.8781\n",
            "Epoch 3/20\n",
            "67/67 [==============================] - 47s 708ms/step - loss: 0.2122 - accuracy: 0.9193 - val_loss: 0.2887 - val_accuracy: 0.8923\n",
            "Epoch 4/20\n",
            "67/67 [==============================] - 49s 724ms/step - loss: 0.1925 - accuracy: 0.9305 - val_loss: 0.3450 - val_accuracy: 0.8717\n",
            "Epoch 5/20\n",
            "67/67 [==============================] - 49s 726ms/step - loss: 0.1462 - accuracy: 0.9477 - val_loss: 0.3452 - val_accuracy: 0.8844\n",
            "Epoch 6/20\n",
            "67/67 [==============================] - 49s 732ms/step - loss: 0.1270 - accuracy: 0.9585 - val_loss: 0.3237 - val_accuracy: 0.8844\n",
            "Epoch 7/20\n",
            "67/67 [==============================] - 49s 731ms/step - loss: 0.1157 - accuracy: 0.9566 - val_loss: 0.4132 - val_accuracy: 0.8630\n",
            "Epoch 8/20\n",
            "67/67 [==============================] - 49s 736ms/step - loss: 0.1076 - accuracy: 0.9608 - val_loss: 0.3963 - val_accuracy: 0.8733\n",
            "Epoch 9/20\n",
            "67/67 [==============================] - 49s 727ms/step - loss: 0.0932 - accuracy: 0.9669 - val_loss: 0.3191 - val_accuracy: 0.8884\n",
            "Epoch 10/20\n",
            "67/67 [==============================] - 49s 736ms/step - loss: 0.0859 - accuracy: 0.9725 - val_loss: 0.4289 - val_accuracy: 0.8654\n",
            "Epoch 11/20\n",
            "67/67 [==============================] - 49s 728ms/step - loss: 0.0707 - accuracy: 0.9734 - val_loss: 0.4103 - val_accuracy: 0.8797\n",
            "Epoch 12/20\n",
            "67/67 [==============================] - 48s 724ms/step - loss: 0.0724 - accuracy: 0.9743 - val_loss: 0.3929 - val_accuracy: 0.8749\n",
            "Epoch 13/20\n",
            "67/67 [==============================] - 49s 726ms/step - loss: 0.0555 - accuracy: 0.9818 - val_loss: 0.3933 - val_accuracy: 0.8797\n",
            "Epoch 14/20\n",
            "67/67 [==============================] - 48s 718ms/step - loss: 0.0500 - accuracy: 0.9851 - val_loss: 0.4749 - val_accuracy: 0.8757\n",
            "Epoch 15/20\n",
            "67/67 [==============================] - 48s 714ms/step - loss: 0.0470 - accuracy: 0.9813 - val_loss: 0.4607 - val_accuracy: 0.8717\n",
            "Epoch 16/20\n",
            "67/67 [==============================] - 48s 713ms/step - loss: 0.0442 - accuracy: 0.9841 - val_loss: 0.4057 - val_accuracy: 0.8876\n",
            "Epoch 17/20\n",
            "67/67 [==============================] - 48s 712ms/step - loss: 0.0418 - accuracy: 0.9860 - val_loss: 0.4753 - val_accuracy: 0.8812\n",
            "Epoch 18/20\n",
            "67/67 [==============================] - 47s 707ms/step - loss: 0.0439 - accuracy: 0.9846 - val_loss: 0.4862 - val_accuracy: 0.8757\n",
            "Epoch 19/20\n",
            "67/67 [==============================] - 47s 706ms/step - loss: 0.0436 - accuracy: 0.9832 - val_loss: 0.4477 - val_accuracy: 0.8781\n",
            "Epoch 20/20\n",
            "67/67 [==============================] - 48s 711ms/step - loss: 0.0365 - accuracy: 0.9902 - val_loss: 0.4131 - val_accuracy: 0.8923\n"
          ],
          "name": "stdout"
        }
      ]
    },
    {
      "cell_type": "markdown",
      "metadata": {
        "id": "GtCE1FtMPDFl",
        "colab_type": "text"
      },
      "source": [
        "##Outputs\n",
        "\n",
        "---\n",
        "\n"
      ]
    },
    {
      "cell_type": "markdown",
      "metadata": {
        "id": "LJVO-d29PHXN",
        "colab_type": "text"
      },
      "source": [
        "###Accuracy and Loss Plot\n",
        "\n",
        "---\n",
        "\n"
      ]
    },
    {
      "cell_type": "code",
      "metadata": {
        "id": "kC13FszpEteX",
        "colab_type": "code",
        "outputId": "e27f2b3a-ada0-4c37-a785-b8461e858064",
        "colab": {
          "base_uri": "https://localhost:8080/",
          "height": 513
        }
      },
      "source": [
        "import matplotlib.pyplot as plt\n",
        "acc = history.history['accuracy']\n",
        "val_acc = history.history['val_accuracy']\n",
        "\n",
        "loss = history.history['loss']\n",
        "val_loss = history.history['val_loss']\n",
        "\n",
        "plt.figure(figsize=(8, 8))\n",
        "plt.subplot(2, 1, 1)\n",
        "plt.plot(acc, label='Training Accuracy')\n",
        "plt.plot(val_acc, label='Validation Accuracy')\n",
        "plt.legend(loc='lower right')\n",
        "plt.ylabel('Accuracy')\n",
        "plt.ylim([min(plt.ylim()),1])\n",
        "plt.title('Training and Validation Accuracy')\n",
        "\n",
        "plt.subplot(2, 1, 2)\n",
        "plt.plot(loss, label='Training Loss')\n",
        "plt.plot(val_loss, label='Validation Loss')\n",
        "plt.legend(loc='upper right')\n",
        "plt.ylabel('Cross Entropy')\n",
        "plt.ylim([0,1.0])\n",
        "plt.title('Training and Validation Loss')\n",
        "plt.xlabel('epoch')\n",
        "plt.show()"
      ],
      "execution_count": 0,
      "outputs": [
        {
          "output_type": "display_data",
          "data": {
            "image/png": "[encoded data removed]",
            "text/plain": [
              "<Figure size 576x576 with 2 Axes>"
            ]
          },
          "metadata": {
            "tags": [],
            "needs_background": "light"
          }
        }
      ]
    },
    {
      "cell_type": "code",
      "metadata": {
        "id": "15v5ADMwDDvo",
        "colab_type": "code",
        "colab": {}
      },
      "source": [
        "model.save(\"/content/drive/My Drive/saved_models/mobilenetv2_3classes_base.h5\")"
      ],
      "execution_count": 0,
      "outputs": []
    },
    {
      "cell_type": "markdown",
      "metadata": {
        "id": "0aMEQErmC0PV",
        "colab_type": "text"
      },
      "source": [
        "##FINE TUNING"
      ]
    },
    {
      "cell_type": "code",
      "metadata": {
        "id": "yjILZHbYC3b6",
        "colab_type": "code",
        "outputId": "58d425af-6a23-4b3e-95ac-9bc6eaae5ec1",
        "colab": {
          "base_uri": "https://localhost:8080/",
          "height": 289
        }
      },
      "source": [
        "model.summary()"
      ],
      "execution_count": 0,
      "outputs": [
        {
          "output_type": "stream",
          "text": [
            "Model: \"sequential\"\n",
            "_________________________________________________________________\n",
            "Layer (type)                 Output Shape              Param #   \n",
            "=================================================================\n",
            "model (Model)                (None, 1280)              2257984   \n",
            "_________________________________________________________________\n",
            "dense (Dense)                (None, 64)                81984     \n",
            "_________________________________________________________________\n",
            "dropout (Dropout)            (None, 64)                0         \n",
            "_________________________________________________________________\n",
            "dense_1 (Dense)              (None, 3)                 195       \n",
            "=================================================================\n",
            "Total params: 2,340,163\n",
            "Trainable params: 82,179\n",
            "Non-trainable params: 2,257,984\n",
            "_________________________________________________________________\n"
          ],
          "name": "stdout"
        }
      ]
    },
    {
      "cell_type": "code",
      "metadata": {
        "id": "23x2QOjDhqTU",
        "colab_type": "code",
        "outputId": "8ac5c675-c901-4c60-b69d-fedd865df3c7",
        "colab": {
          "base_uri": "https://localhost:8080/",
          "height": 255
        }
      },
      "source": [
        "top_model.summary()"
      ],
      "execution_count": 0,
      "outputs": [
        {
          "output_type": "stream",
          "text": [
            "Model: \"model\"\n",
            "_________________________________________________________________\n",
            "Layer (type)                 Output Shape              Param #   \n",
            "=================================================================\n",
            "mobilenetv2_1.00_224_input ( [(None, 224, 224, 3)]     0         \n",
            "_________________________________________________________________\n",
            "mobilenetv2_1.00_224 (Model) (None, 7, 7, 1280)        2257984   \n",
            "_________________________________________________________________\n",
            "global_average_pooling2d_2 ( (None, 1280)              0         \n",
            "=================================================================\n",
            "Total params: 2,257,984\n",
            "Trainable params: 0\n",
            "Non-trainable params: 2,257,984\n",
            "_________________________________________________________________\n"
          ],
          "name": "stdout"
        }
      ]
    },
    {
      "cell_type": "code",
      "metadata": {
        "id": "PezzU-UtDwC9",
        "colab_type": "code",
        "colab": {}
      },
      "source": [
        "top_model.trainable = True"
      ],
      "execution_count": 0,
      "outputs": []
    },
    {
      "cell_type": "code",
      "metadata": {
        "id": "13FApfz0Dzqs",
        "colab_type": "code",
        "outputId": "8b786a16-8835-4a33-ec51-92738d534d37",
        "colab": {
          "base_uri": "https://localhost:8080/",
          "height": 34
        }
      },
      "source": [
        "print(\"Number of layers in the base model: \", len(top_model.layers))\n",
        "fine_tune_at = 100\n",
        "\n",
        "for layer in top_model.layers[1].layers[:fine_tune_at]:\n",
        "  layer.trainable =  False"
      ],
      "execution_count": 0,
      "outputs": [
        {
          "output_type": "stream",
          "text": [
            "Number of layers in the base model:  3\n"
          ],
          "name": "stdout"
        }
      ]
    },
    {
      "cell_type": "code",
      "metadata": {
        "id": "c566us8mD8Zx",
        "colab_type": "code",
        "outputId": "5009af85-dad1-4a8a-806e-6c3d9bf6e587",
        "colab": {
          "base_uri": "https://localhost:8080/",
          "height": 255
        }
      },
      "source": [
        "top_model.summary()"
      ],
      "execution_count": 0,
      "outputs": [
        {
          "output_type": "stream",
          "text": [
            "Model: \"model\"\n",
            "_________________________________________________________________\n",
            "Layer (type)                 Output Shape              Param #   \n",
            "=================================================================\n",
            "mobilenetv2_1.00_224_input ( [(None, 224, 224, 3)]     0         \n",
            "_________________________________________________________________\n",
            "mobilenetv2_1.00_224 (Model) (None, 7, 7, 1280)        2257984   \n",
            "_________________________________________________________________\n",
            "global_average_pooling2d_2 ( (None, 1280)              0         \n",
            "=================================================================\n",
            "Total params: 2,257,984\n",
            "Trainable params: 1,862,592\n",
            "Non-trainable params: 395,392\n",
            "_________________________________________________________________\n"
          ],
          "name": "stdout"
        }
      ]
    },
    {
      "cell_type": "code",
      "metadata": {
        "id": "X8VnR4tbEC6y",
        "colab_type": "code",
        "outputId": "fcf1220d-97c7-4fcb-96a0-26a00861aafa",
        "colab": {
          "base_uri": "https://localhost:8080/",
          "height": 289
        }
      },
      "source": [
        "model.summary()"
      ],
      "execution_count": 0,
      "outputs": [
        {
          "output_type": "stream",
          "text": [
            "Model: \"sequential\"\n",
            "_________________________________________________________________\n",
            "Layer (type)                 Output Shape              Param #   \n",
            "=================================================================\n",
            "model (Model)                (None, 1280)              2257984   \n",
            "_________________________________________________________________\n",
            "dense (Dense)                (None, 64)                81984     \n",
            "_________________________________________________________________\n",
            "dropout (Dropout)            (None, 64)                0         \n",
            "_________________________________________________________________\n",
            "dense_1 (Dense)              (None, 3)                 195       \n",
            "=================================================================\n",
            "Total params: 2,340,163\n",
            "Trainable params: 1,944,771\n",
            "Non-trainable params: 395,392\n",
            "_________________________________________________________________\n"
          ],
          "name": "stdout"
        }
      ]
    },
    {
      "cell_type": "code",
      "metadata": {
        "id": "Q3pvfCyREF1I",
        "colab_type": "code",
        "colab": {}
      },
      "source": [
        "base_learning_rate = 0.0001\n",
        "model.compile(optimizer=tf.keras.optimizers.Adam(lr=base_learning_rate/10),\n",
        "              loss=tf.keras.losses.CategoricalCrossentropy(),\n",
        "              metrics=['accuracy'])"
      ],
      "execution_count": 0,
      "outputs": []
    },
    {
      "cell_type": "code",
      "metadata": {
        "id": "it9Nk7HHHC0c",
        "colab_type": "code",
        "colab": {}
      },
      "source": [
        "csv_logger = CSVLogger('Multi_Class_MobileNetV2_3_class_FineTune.csv', append=True, separator=';')"
      ],
      "execution_count": 0,
      "outputs": []
    },
    {
      "cell_type": "code",
      "metadata": {
        "id": "UM4dFu8jEFxd",
        "colab_type": "code",
        "outputId": "20ce68f5-8314-4cc6-d7d5-faeae7511877",
        "colab": {
          "base_uri": "https://localhost:8080/",
          "height": 697
        }
      },
      "source": [
        "fine_tune_epochs = 20\n",
        "initial_epochs = 20\n",
        "total_epochs =  initial_epochs + fine_tune_epochs\n",
        "history_fine = model.fit(train_generator,steps_per_epoch=67,epochs = total_epochs,initial_epoch =  initial_epochs,validation_data=validation_generator,callbacks=[csv_logger],validation_steps=1263)"
      ],
      "execution_count": 0,
      "outputs": [
        {
          "output_type": "stream",
          "text": [
            "Epoch 21/40\n",
            "67/67 [==============================] - 50s 744ms/step - loss: 0.8053 - accuracy: 0.7979 - val_loss: 0.3864 - val_accuracy: 0.8860\n",
            "Epoch 22/40\n",
            "67/67 [==============================] - 48s 723ms/step - loss: 0.2937 - accuracy: 0.9034 - val_loss: 0.5352 - val_accuracy: 0.8242\n",
            "Epoch 23/40\n",
            "67/67 [==============================] - 48s 714ms/step - loss: 0.1629 - accuracy: 0.9407 - val_loss: 0.5340 - val_accuracy: 0.8266\n",
            "Epoch 24/40\n",
            "67/67 [==============================] - 48s 714ms/step - loss: 0.1361 - accuracy: 0.9529 - val_loss: 0.5285 - val_accuracy: 0.8226\n",
            "Epoch 25/40\n",
            "67/67 [==============================] - 48s 715ms/step - loss: 0.1079 - accuracy: 0.9622 - val_loss: 0.5545 - val_accuracy: 0.8187\n",
            "Epoch 26/40\n",
            "67/67 [==============================] - 48s 713ms/step - loss: 0.0935 - accuracy: 0.9692 - val_loss: 0.5635 - val_accuracy: 0.8219\n",
            "Epoch 27/40\n",
            "67/67 [==============================] - 48s 712ms/step - loss: 0.0603 - accuracy: 0.9809 - val_loss: 0.5272 - val_accuracy: 0.8274\n",
            "Epoch 28/40\n",
            "67/67 [==============================] - 48s 720ms/step - loss: 0.0487 - accuracy: 0.9832 - val_loss: 0.4675 - val_accuracy: 0.8480\n",
            "Epoch 29/40\n",
            "67/67 [==============================] - 48s 717ms/step - loss: 0.0508 - accuracy: 0.9837 - val_loss: 0.4358 - val_accuracy: 0.8630\n",
            "Epoch 30/40\n",
            "67/67 [==============================] - 48s 720ms/step - loss: 0.0471 - accuracy: 0.9855 - val_loss: 0.4232 - val_accuracy: 0.8709\n",
            "Epoch 31/40\n",
            "67/67 [==============================] - 49s 725ms/step - loss: 0.0346 - accuracy: 0.9874 - val_loss: 0.3734 - val_accuracy: 0.8947\n",
            "Epoch 32/40\n",
            "67/67 [==============================] - 48s 722ms/step - loss: 0.0303 - accuracy: 0.9925 - val_loss: 0.3530 - val_accuracy: 0.9074\n",
            "Epoch 33/40\n",
            "67/67 [==============================] - 48s 720ms/step - loss: 0.0300 - accuracy: 0.9916 - val_loss: 0.3423 - val_accuracy: 0.9082\n",
            "Epoch 34/40\n",
            "67/67 [==============================] - 49s 726ms/step - loss: 0.0245 - accuracy: 0.9925 - val_loss: 0.3422 - val_accuracy: 0.9089\n",
            "Epoch 35/40\n",
            "67/67 [==============================] - 49s 728ms/step - loss: 0.0248 - accuracy: 0.9939 - val_loss: 0.3411 - val_accuracy: 0.9074\n",
            "Epoch 36/40\n",
            "67/67 [==============================] - 49s 730ms/step - loss: 0.0148 - accuracy: 0.9972 - val_loss: 0.3551 - val_accuracy: 0.9050\n",
            "Epoch 37/40\n",
            "67/67 [==============================] - 49s 734ms/step - loss: 0.0182 - accuracy: 0.9944 - val_loss: 0.3382 - val_accuracy: 0.9082\n",
            "Epoch 38/40\n",
            "67/67 [==============================] - 49s 734ms/step - loss: 0.0155 - accuracy: 0.9977 - val_loss: 0.3528 - val_accuracy: 0.9105\n",
            "Epoch 39/40\n",
            "67/67 [==============================] - 49s 730ms/step - loss: 0.0174 - accuracy: 0.9944 - val_loss: 0.3600 - val_accuracy: 0.9066\n",
            "Epoch 40/40\n",
            "67/67 [==============================] - 49s 735ms/step - loss: 0.0154 - accuracy: 0.9953 - val_loss: 0.3872 - val_accuracy: 0.9042\n"
          ],
          "name": "stdout"
        }
      ]
    },
    {
      "cell_type": "code",
      "metadata": {
        "id": "9u3G35pHEFvL",
        "colab_type": "code",
        "colab": {}
      },
      "source": [
        "acc += history.history['accuracy']\n",
        "val_acc += history.history['val_accuracy']\n",
        "\n",
        "loss += history.history['loss']\n",
        "val_loss += history.history['val_loss']"
      ],
      "execution_count": 0,
      "outputs": []
    },
    {
      "cell_type": "code",
      "metadata": {
        "id": "ZPZA9O1dEFsy",
        "colab_type": "code",
        "outputId": "bffd5212-e6d8-4c4c-baa1-2f9d1d7b70fb",
        "colab": {
          "base_uri": "https://localhost:8080/",
          "height": 513
        }
      },
      "source": [
        "import matplotlib.pyplot as plt\n",
        "acc = history_fine.history['accuracy']\n",
        "val_acc = history_fine.history['val_accuracy']\n",
        "\n",
        "loss = history_fine.history['loss']\n",
        "val_loss = history_fine.history['val_loss']\n",
        "\n",
        "plt.figure(figsize=(8, 8))\n",
        "plt.subplot(2, 1, 1)\n",
        "plt.plot(acc, label='Training Accuracy')\n",
        "plt.plot(val_acc, label='Validation Accuracy')\n",
        "plt.legend(loc='lower right')\n",
        "plt.ylabel('Accuracy')\n",
        "plt.ylim([min(plt.ylim()),1])\n",
        "plt.title('Training and Validation Accuracy')\n",
        "\n",
        "plt.subplot(2, 1, 2)\n",
        "plt.plot(loss, label='Training Loss')\n",
        "plt.plot(val_loss, label='Validation Loss')\n",
        "plt.legend(loc='upper right')\n",
        "plt.ylabel('Cross Entropy')\n",
        "plt.ylim([0,1.0])\n",
        "plt.title('Training and Validation Loss')\n",
        "plt.xlabel('epoch')\n",
        "plt.show()"
      ],
      "execution_count": 0,
      "outputs": [
        {
          "output_type": "display_data",
          "data": {
            "image/png": "[encoded data removed]",
            "text/plain": [
              "<Figure size 576x576 with 2 Axes>"
            ]
          },
          "metadata": {
            "tags": [],
            "needs_background": "light"
          }
        }
      ]
    },
    {
      "cell_type": "markdown",
      "metadata": {
        "id": "MoTfIVrBPNb_",
        "colab_type": "text"
      },
      "source": [
        "###Confusion Matrix\n",
        "\n",
        "---\n",
        "\n"
      ]
    },
    {
      "cell_type": "code",
      "metadata": {
        "id": "qTmy5nKvODDe",
        "colab_type": "code",
        "outputId": "be0bf696-458e-40c6-ffd1-9e95dc95aaba",
        "colab": {
          "base_uri": "https://localhost:8080/",
          "height": 343
        }
      },
      "source": [
        "import seaborn as sn\n",
        "import pandas as pd\n",
        "import numpy as np\n",
        "import matplotlib.pyplot as plt\n",
        "from sklearn.metrics import classification_report, confusion_matrix\n",
        "validation_generator.reset()\n",
        "Y_preds=model.predict_generator(validation_generator,1263)\n",
        "y_pred = np.argmax(Y_preds, axis=1)\n",
        "Matrix = confusion_matrix(validation_generator.classes, y_pred)\n",
        "print('Confusion Matrix')\n",
        "print(Matrix)\n",
        "print('Classification Report')\n",
        "target_names = ['COVID-19', 'Normal', 'Pneumonia']\n",
        "print(classification_report(validation_generator.classes, y_pred, target_names=target_names))"
      ],
      "execution_count": 0,
      "outputs": [
        {
          "output_type": "stream",
          "text": [
            "WARNING:tensorflow:From <ipython-input-36-1977761c58c7>:7: Model.predict_generator (from tensorflow.python.keras.engine.training) is deprecated and will be removed in a future version.\n",
            "Instructions for updating:\n",
            "Please use Model.predict, which supports generators.\n",
            "Confusion Matrix\n",
            "[[241   6  31]\n",
            " [  0 441  15]\n",
            " [ 10  59 460]]\n",
            "Classification Report\n",
            "              precision    recall  f1-score   support\n",
            "\n",
            "    COVID-19       0.96      0.87      0.91       278\n",
            "      Normal       0.87      0.97      0.92       456\n",
            "   Pneumonia       0.91      0.87      0.89       529\n",
            "\n",
            "    accuracy                           0.90      1263\n",
            "   macro avg       0.91      0.90      0.91      1263\n",
            "weighted avg       0.91      0.90      0.90      1263\n",
            "\n"
          ],
          "name": "stdout"
        }
      ]
    },
    {
      "cell_type": "code",
      "metadata": {
        "id": "0EaHVmBuXRUG",
        "colab_type": "code",
        "outputId": "1a09d4ee-46e8-420b-caa8-ba3fa000516d",
        "colab": {
          "base_uri": "https://localhost:8080/",
          "height": 273
        }
      },
      "source": [
        "df_cm = pd.DataFrame(Matrix, target_names, target_names)\n",
        "sn.set(font_scale=1.4) # for label size\n",
        "sn.heatmap(df_cm, annot=True, annot_kws={\"size\": 16}) # font size\n",
        "\n",
        "plt.show()"
      ],
      "execution_count": 0,
      "outputs": [
        {
          "output_type": "display_data",
          "data": {
            "image/png": "[encoded data removed]",
            "text/plain": [
              "<Figure size 432x288 with 2 Axes>"
            ]
          },
          "metadata": {
            "tags": []
          }
        }
      ]
    },
    {
      "cell_type": "code",
      "metadata": {
        "id": "LejPoSQPXSp7",
        "colab_type": "code",
        "colab": {}
      },
      "source": [
        "model.save(\"/content/drive/My Drive/saved_models/mobilenetv2_3classes_finetune.h5\")"
      ],
      "execution_count": 0,
      "outputs": []
    },
    {
      "cell_type": "markdown",
      "metadata": {
        "id": "Dup9SYIOPSkm",
        "colab_type": "text"
      },
      "source": [
        "###Test Images\n",
        "\n",
        "---\n",
        "\n"
      ]
    },
    {
      "cell_type": "code",
      "metadata": {
        "id": "xwLHj2-KLRg8",
        "colab_type": "code",
        "outputId": "4864f64f-54d7-4d4f-b7f6-7273253a0d04",
        "colab": {
          "base_uri": "https://localhost:8080/",
          "height": 88
        }
      },
      "source": [
        "score = model.evaluate_generator(validation_generator,steps=1263)"
      ],
      "execution_count": 0,
      "outputs": [
        {
          "output_type": "stream",
          "text": [
            "WARNING:tensorflow:From <ipython-input-39-37bf498943bb>:1: Model.evaluate_generator (from tensorflow.python.keras.engine.training) is deprecated and will be removed in a future version.\n",
            "Instructions for updating:\n",
            "Please use Model.evaluate, which supports generators.\n"
          ],
          "name": "stdout"
        }
      ]
    },
    {
      "cell_type": "code",
      "metadata": {
        "id": "m-dKPFCCMEX8",
        "colab_type": "code",
        "outputId": "01493f45-f7ac-41b7-ebec-4977425a814a",
        "colab": {
          "base_uri": "https://localhost:8080/",
          "height": 34
        }
      },
      "source": [
        "score[1]"
      ],
      "execution_count": 0,
      "outputs": [
        {
          "output_type": "execute_result",
          "data": {
            "text/plain": [
              "0.9041963815689087"
            ]
          },
          "metadata": {
            "tags": []
          },
          "execution_count": 40
        }
      ]
    },
    {
      "cell_type": "code",
      "metadata": {
        "id": "SR9BBO5xslUy",
        "colab_type": "code",
        "outputId": "b79592b4-7a53-428a-8d15-3f4b6b8f082d",
        "colab": {
          "resources": {
            "http://localhost:8080/nbextensions/google.colab/files.js": {
              "data": "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",
              "ok": true,
              "headers": [
                [
                  "content-type",
                  "application/javascript"
                ]
              ],
              "status": 200,
              "status_text": ""
            }
          },
          "base_uri": "https://localhost:8080/",
          "height": 652
        }
      },
      "source": [
        "from keras.preprocessing import image\n",
        "from google.colab import files\n",
        "uploaded = files.upload()\n",
        "\n",
        "for fn in uploaded.keys():\n",
        " \n",
        "  # predicting images\n",
        "  path = '/content/' + fn\n",
        "  img = image.load_img(path, target_size=(224,224))\n",
        "  x = image.img_to_array(img)\n",
        "  \n",
        "  x = np.expand_dims(x, axis=0)/255.0\n",
        "\n",
        "  images = np.vstack([x])\n",
        "  classes = model.predict(images, batch_size=10)\n",
        "  if np.argmax(classes[0]) == 0:\n",
        "    print(fn + 'is covid-19')\n",
        "  elif np.argmax(classes[0]) == 1:\n",
        "    print(fn + 'is Normal')\n",
        "  else:\n",
        "    print(fn + 'is Pneumonia')"
      ],
      "execution_count": 0,
      "outputs": [
        {
          "output_type": "display_data",
          "data": {
            "text/html": [
              "\n",
              "     <input type=\"file\" id=\"files-7150cf44-54cb-4384-a969-895fa559e3e2\" name=\"files[]\" multiple disabled />\n",
              "     <output id=\"result-7150cf44-54cb-4384-a969-895fa559e3e2\">\n",
              "      Upload widget is only available when the cell has been executed in the\n",
              "      current browser session. Please rerun this cell to enable.\n",
              "      </output>\n",
              "      <script src=\"/nbextensions/google.colab/files.js\"></script> "
            ],
            "text/plain": [
              "<IPython.core.display.HTML object>"
            ]
          },
          "metadata": {
            "tags": []
          }
        },
        {
          "output_type": "stream",
          "text": [
            "Saving person1_bacteria_1.jpeg to person1_bacteria_1.jpeg\n",
            "Saving person1_bacteria_2.jpeg to person1_bacteria_2.jpeg\n",
            "Saving person2_bacteria_3.jpeg to person2_bacteria_3.jpeg\n",
            "Saving person2_bacteria_4.jpeg to person2_bacteria_4.jpeg\n",
            "Saving person3_bacteria_10.jpeg to person3_bacteria_10.jpeg\n",
            "Saving person3_bacteria_11.jpeg to person3_bacteria_11.jpeg\n",
            "Saving person3_bacteria_12.jpeg to person3_bacteria_12.jpeg\n",
            "Saving person3_bacteria_13.jpeg to person3_bacteria_13.jpeg\n",
            "Saving person4_bacteria_14.jpeg to person4_bacteria_14.jpeg\n",
            "Saving person5_bacteria_15.jpeg to person5_bacteria_15.jpeg\n",
            "Saving person5_bacteria_16.jpeg to person5_bacteria_16.jpeg\n",
            "Saving person5_bacteria_17.jpeg to person5_bacteria_17.jpeg\n",
            "person1_bacteria_1.jpegis Pneumonia\n",
            "person1_bacteria_2.jpegis Pneumonia\n",
            "person2_bacteria_3.jpegis Pneumonia\n",
            "person2_bacteria_4.jpegis Pneumonia\n",
            "person3_bacteria_10.jpegis Pneumonia\n",
            "person3_bacteria_11.jpegis Pneumonia\n",
            "person3_bacteria_12.jpegis covid-19\n",
            "person3_bacteria_13.jpegis Normal\n",
            "person4_bacteria_14.jpegis Pneumonia\n",
            "person5_bacteria_15.jpegis Normal\n",
            "person5_bacteria_16.jpegis Pneumonia\n",
            "person5_bacteria_17.jpegis Pneumonia\n"
          ],
          "name": "stdout"
        }
      ]
    }
  ]
}